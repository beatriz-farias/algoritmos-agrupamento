{
  "cells": [
    {
      "cell_type": "markdown",
      "id": "49a62419",
      "metadata": {
        "id": "49a62419"
      },
      "source": [
        "# Comparação de Algoritmos de Agrupamento\n",
        "\n",
        "Implementação e comparação de três algoritmos de agrupamento não supervisionado: Kohonen (SOM), K-means e DBSCAN, utilizando o conjunto de dados (Iris Dataset)."
      ]
    },
    {
      "cell_type": "markdown",
      "id": "21acf746",
      "metadata": {
        "id": "21acf746"
      },
      "source": [
        "## Integrantes do grupo\n",
        "\n",
        "- Beatriz Farias do Nascimento - 122053127\n",
        "- Natan Azevedo Gomes - 122047435\n",
        "- Thomas"
      ]
    },
    {
      "cell_type": "markdown",
      "id": "bce3acfd",
      "metadata": {
        "id": "bce3acfd"
      },
      "source": [
        "## Bibliotecas"
      ]
    },
    {
      "cell_type": "code",
      "execution_count": null,
      "id": "8a972d70",
      "metadata": {
        "id": "8a972d70"
      },
      "outputs": [],
      "source": [
        "from sklearn.datasets import load_iris\n",
        "import pandas as pd\n",
        "import numpy as np"
      ]
    },
    {
      "cell_type": "markdown",
      "id": "6d3bb04b",
      "metadata": {
        "id": "6d3bb04b"
      },
      "source": [
        "## Carregamento do dataset"
      ]
    },
    {
      "cell_type": "code",
      "execution_count": null,
      "id": "f0ab50d9",
      "metadata": {
        "id": "f0ab50d9",
        "outputId": "bc9ac6d5-4682-4a34-dfb7-e969f74b582c"
      },
      "outputs": [
        {
          "data": {
            "text/html": [
              "<div>\n",
              "<style scoped>\n",
              "    .dataframe tbody tr th:only-of-type {\n",
              "        vertical-align: middle;\n",
              "    }\n",
              "\n",
              "    .dataframe tbody tr th {\n",
              "        vertical-align: top;\n",
              "    }\n",
              "\n",
              "    .dataframe thead th {\n",
              "        text-align: right;\n",
              "    }\n",
              "</style>\n",
              "<table border=\"1\" class=\"dataframe\">\n",
              "  <thead>\n",
              "    <tr style=\"text-align: right;\">\n",
              "      <th></th>\n",
              "      <th>sepal length (cm)</th>\n",
              "      <th>sepal width (cm)</th>\n",
              "      <th>petal length (cm)</th>\n",
              "      <th>petal width (cm)</th>\n",
              "    </tr>\n",
              "  </thead>\n",
              "  <tbody>\n",
              "    <tr>\n",
              "      <th>0</th>\n",
              "      <td>5.1</td>\n",
              "      <td>3.5</td>\n",
              "      <td>1.4</td>\n",
              "      <td>0.2</td>\n",
              "    </tr>\n",
              "    <tr>\n",
              "      <th>1</th>\n",
              "      <td>4.9</td>\n",
              "      <td>3.0</td>\n",
              "      <td>1.4</td>\n",
              "      <td>0.2</td>\n",
              "    </tr>\n",
              "    <tr>\n",
              "      <th>2</th>\n",
              "      <td>4.7</td>\n",
              "      <td>3.2</td>\n",
              "      <td>1.3</td>\n",
              "      <td>0.2</td>\n",
              "    </tr>\n",
              "    <tr>\n",
              "      <th>3</th>\n",
              "      <td>4.6</td>\n",
              "      <td>3.1</td>\n",
              "      <td>1.5</td>\n",
              "      <td>0.2</td>\n",
              "    </tr>\n",
              "    <tr>\n",
              "      <th>4</th>\n",
              "      <td>5.0</td>\n",
              "      <td>3.6</td>\n",
              "      <td>1.4</td>\n",
              "      <td>0.2</td>\n",
              "    </tr>\n",
              "  </tbody>\n",
              "</table>\n",
              "</div>"
            ],
            "text/plain": [
              "   sepal length (cm)  sepal width (cm)  petal length (cm)  petal width (cm)\n",
              "0                5.1               3.5                1.4               0.2\n",
              "1                4.9               3.0                1.4               0.2\n",
              "2                4.7               3.2                1.3               0.2\n",
              "3                4.6               3.1                1.5               0.2\n",
              "4                5.0               3.6                1.4               0.2"
            ]
          },
          "execution_count": 2,
          "metadata": {},
          "output_type": "execute_result"
        }
      ],
      "source": [
        "data = load_iris()\n",
        "df = pd.DataFrame(data=data.data, columns=data.feature_names)\n",
        "df.head()"
      ]
    },
    {
      "cell_type": "markdown",
      "id": "21fa72a2",
      "metadata": {
        "id": "21fa72a2"
      },
      "source": [
        "## K-Means"
      ]
    },
    {
      "cell_type": "markdown",
      "id": "2d5f1c4c",
      "metadata": {
        "id": "2d5f1c4c"
      },
      "source": [
        "### Lógica do algoritmo\n",
        "\n",
        "1. Escolha de K valores de forma aleatória como centróides iniciais.\n",
        "2. Atribuição de cada ponto ao centróide mais próximo (com base na distância euclidiana calculada).\n",
        "3. Obtenção de um novo centróide pelo cálculo da média dos pontos de cada grupo.\n",
        "4. Repetir os passos 2 e 3 até a convergência.\n"
      ]
    },
    {
      "cell_type": "markdown",
      "id": "82426577",
      "metadata": {
        "id": "82426577"
      },
      "source": [
        "### Implementação"
      ]
    },
    {
      "cell_type": "code",
      "execution_count": null,
      "id": "27266a65",
      "metadata": {
        "id": "27266a65"
      },
      "outputs": [],
      "source": [
        "def k_means(X, k, max_iters=100):\n",
        "    n_samples = X.shape[0]\n",
        "    # Escolher K centróides iniciais de forma aleatória\n",
        "    centroids = X[np.random.choice(n_samples, k, replace=False)]\n",
        "\n",
        "    for _ in range(max_iters):\n",
        "        # Atribuir cada ponto ao cluster mais próximo\n",
        "        distances = np.linalg.norm(X[:, np.newaxis] - centroids, axis=2)\n",
        "        clusters = np.argmin(distances, axis=1)\n",
        "\n",
        "        # Atualizar os centróides\n",
        "        new_centroids = np.array([X[clusters == i].mean(axis=0) for i in range(k)])\n",
        "\n",
        "        # Verificar convergência\n",
        "        if np.allclose(centroids, new_centroids):\n",
        "            break\n",
        "\n",
        "        centroids = new_centroids\n",
        "\n",
        "    return clusters, centroids"
      ]
    },
    {
      "cell_type": "markdown",
      "source": [
        "##DBSCAN"
      ],
      "metadata": {
        "id": "PLaK029M7cLr"
      },
      "id": "PLaK029M7cLr"
    },
    {
      "cell_type": "markdown",
      "source": [
        "###Implementação"
      ],
      "metadata": {
        "id": "alDWFrisHrZB"
      },
      "id": "alDWFrisHrZB"
    },
    {
      "cell_type": "markdown",
      "source": [],
      "metadata": {
        "id": "wZ84snap7pBB"
      },
      "id": "wZ84snap7pBB"
    },
    {
      "cell_type": "code",
      "execution_count": 1,
      "id": "d1390160",
      "metadata": {
        "id": "d1390160"
      },
      "outputs": [],
      "source": [
        "def dbscan(X,eps,minPts):\n",
        "  clusterList = [] #Lista com todos os clusters\n",
        "  for i in range(X.shape[0]):\n",
        "    point1 = X[i]\n",
        "    cluster = [point1,[]] #Cluster no formato [centro,[elementos]]\n",
        "    for j in range(X.shape[0]):\n",
        "      point2 = X[j]\n",
        "      distance = np.linalg.norm(point1 - point2)\n",
        "      if distance <= eps and distance != 0:\n",
        "        cluster[1].append(point2)\n",
        "    if len(cluster[1]) >= minPts: #Verifica se o nùmero de elementos do cluster é maior que o mínimo\n",
        "      clusterList.append(cluster)\n",
        "  return clusterList\n",
        "\n",
        "def classifyDbscan(clusterList, X): #Classifica os pontos em core, border e noise\n",
        "  corePoints = {}\n",
        "  borderPoints = {}\n",
        "  noisePoints = {}\n",
        "\n",
        "  for cluster in clusterList:\n",
        "    corePoints.add(cluster[0])\n",
        "    for point in cluster[1]:\n",
        "      borderPoints.add(point)\n",
        "\n",
        "  borderPoints = borderPoints - corePoints\n",
        "\n",
        "  for i in range(X.shape[0]):\n",
        "    if X[i] not in corePoints and X[i] not in borderPoints:\n",
        "      noisePoints.add(X[i])\n",
        "\n",
        "  return corePoints, borderPoints, noisePoints"
      ]
    }
  ],
  "metadata": {
    "kernelspec": {
      "display_name": "Python 3 (ipykernel)",
      "language": "python",
      "name": "python3"
    },
    "language_info": {
      "codemirror_mode": {
        "name": "ipython",
        "version": 3
      },
      "file_extension": ".py",
      "mimetype": "text/x-python",
      "name": "python",
      "nbconvert_exporter": "python",
      "pygments_lexer": "ipython3",
      "version": "3.10.9"
    },
    "colab": {
      "provenance": []
    }
  },
  "nbformat": 4,
  "nbformat_minor": 5
}